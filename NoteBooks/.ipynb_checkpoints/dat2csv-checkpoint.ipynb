{
 "cells": [
  {
   "cell_type": "markdown",
   "metadata": {},
   "source": [
    "### Read the CSV file"
   ]
  },
  {
   "cell_type": "code",
   "execution_count": 1,
   "metadata": {},
   "outputs": [
    {
     "data": {
      "text/html": [
       "<div>\n",
       "<style scoped>\n",
       "    .dataframe tbody tr th:only-of-type {\n",
       "        vertical-align: middle;\n",
       "    }\n",
       "\n",
       "    .dataframe tbody tr th {\n",
       "        vertical-align: top;\n",
       "    }\n",
       "\n",
       "    .dataframe thead th {\n",
       "        text-align: right;\n",
       "    }\n",
       "</style>\n",
       "<table border=\"1\" class=\"dataframe\">\n",
       "  <thead>\n",
       "    <tr style=\"text-align: right;\">\n",
       "      <th></th>\n",
       "      <th>pixel0</th>\n",
       "      <th>pixel1</th>\n",
       "      <th>pixel2</th>\n",
       "      <th>pixel3</th>\n",
       "      <th>pixel4</th>\n",
       "      <th>pixel5</th>\n",
       "      <th>pixel6</th>\n",
       "      <th>pixel7</th>\n",
       "      <th>pixel8</th>\n",
       "      <th>pixel9</th>\n",
       "      <th>...</th>\n",
       "      <th>pixel774</th>\n",
       "      <th>pixel775</th>\n",
       "      <th>pixel776</th>\n",
       "      <th>pixel777</th>\n",
       "      <th>pixel778</th>\n",
       "      <th>pixel779</th>\n",
       "      <th>pixel780</th>\n",
       "      <th>pixel781</th>\n",
       "      <th>pixel782</th>\n",
       "      <th>pixel783</th>\n",
       "    </tr>\n",
       "  </thead>\n",
       "  <tbody>\n",
       "    <tr>\n",
       "      <th>0</th>\n",
       "      <td>255</td>\n",
       "      <td>255</td>\n",
       "      <td>255</td>\n",
       "      <td>254</td>\n",
       "      <td>255</td>\n",
       "      <td>255</td>\n",
       "      <td>255</td>\n",
       "      <td>255</td>\n",
       "      <td>254</td>\n",
       "      <td>255</td>\n",
       "      <td>...</td>\n",
       "      <td>255</td>\n",
       "      <td>255</td>\n",
       "      <td>255</td>\n",
       "      <td>255</td>\n",
       "      <td>255</td>\n",
       "      <td>255</td>\n",
       "      <td>255</td>\n",
       "      <td>255</td>\n",
       "      <td>255</td>\n",
       "      <td>255</td>\n",
       "    </tr>\n",
       "  </tbody>\n",
       "</table>\n",
       "<p>1 rows × 784 columns</p>\n",
       "</div>"
      ],
      "text/plain": [
       "   pixel0  pixel1  pixel2  pixel3  pixel4  pixel5  pixel6  pixel7  pixel8  \\\n",
       "0     255     255     255     254     255     255     255     255     254   \n",
       "\n",
       "   pixel9    ...     pixel774  pixel775  pixel776  pixel777  pixel778  \\\n",
       "0     255    ...          255       255       255       255       255   \n",
       "\n",
       "   pixel779  pixel780  pixel781  pixel782  pixel783  \n",
       "0       255       255       255       255       255  \n",
       "\n",
       "[1 rows x 784 columns]"
      ]
     },
     "execution_count": 1,
     "metadata": {},
     "output_type": "execute_result"
    }
   ],
   "source": [
    "import pandas as pd\n",
    "df = pd.read_csv(\"train_converted.csv\")\n",
    "\n",
    "df.head()"
   ]
  },
  {
   "cell_type": "markdown",
   "metadata": {},
   "source": [
    "### Reading First instance"
   ]
  },
  {
   "cell_type": "code",
   "execution_count": 2,
   "metadata": {},
   "outputs": [
    {
     "data": {
      "text/plain": [
       "pixel0      255\n",
       "pixel1      255\n",
       "pixel2      255\n",
       "pixel3      254\n",
       "pixel4      255\n",
       "pixel5      255\n",
       "pixel6      255\n",
       "pixel7      255\n",
       "pixel8      254\n",
       "pixel9      255\n",
       "pixel10     255\n",
       "pixel11     254\n",
       "pixel12     255\n",
       "pixel13     254\n",
       "pixel14     255\n",
       "pixel15     255\n",
       "pixel16     255\n",
       "pixel17     254\n",
       "pixel18     253\n",
       "pixel19     255\n",
       "pixel20     254\n",
       "pixel21     253\n",
       "pixel22     255\n",
       "pixel23     253\n",
       "pixel24     254\n",
       "pixel25     255\n",
       "pixel26     255\n",
       "pixel27     255\n",
       "pixel28     255\n",
       "pixel29     254\n",
       "           ... \n",
       "pixel754    255\n",
       "pixel755    255\n",
       "pixel756    255\n",
       "pixel757    255\n",
       "pixel758    255\n",
       "pixel759    255\n",
       "pixel760    255\n",
       "pixel761    255\n",
       "pixel762    255\n",
       "pixel763    255\n",
       "pixel764    255\n",
       "pixel765    255\n",
       "pixel766    255\n",
       "pixel767    255\n",
       "pixel768    255\n",
       "pixel769    255\n",
       "pixel770    255\n",
       "pixel771    255\n",
       "pixel772    255\n",
       "pixel773    255\n",
       "pixel774    255\n",
       "pixel775    255\n",
       "pixel776    255\n",
       "pixel777    255\n",
       "pixel778    255\n",
       "pixel779    255\n",
       "pixel780    255\n",
       "pixel781    255\n",
       "pixel782    255\n",
       "pixel783    255\n",
       "Name: 0, Length: 784, dtype: int64"
      ]
     },
     "execution_count": 2,
     "metadata": {},
     "output_type": "execute_result"
    }
   ],
   "source": [
    "df.iloc[0]\n"
   ]
  },
  {
   "cell_type": "markdown",
   "metadata": {},
   "source": [
    "### Reshaping into 28X28 array"
   ]
  },
  {
   "cell_type": "code",
   "execution_count": 3,
   "metadata": {},
   "outputs": [],
   "source": [
    "import numpy\n",
    "imarray = numpy.asfarray(df.iloc[0,:]).reshape((28,28))"
   ]
  },
  {
   "cell_type": "code",
   "execution_count": 4,
   "metadata": {},
   "outputs": [
    {
     "data": {
      "text/plain": [
       "array([[255., 255., 255., 254., 255., 255., 255., 255., 254., 255., 255.,\n",
       "        254., 255., 254., 255., 255., 255., 254., 253., 255., 254., 253.,\n",
       "        255., 253., 254., 255., 255., 255.],\n",
       "       [255., 254., 253., 255., 254., 255., 253., 255., 255., 254., 255.,\n",
       "        255., 255., 254., 253., 255., 254., 255., 254., 254., 254., 255.,\n",
       "        251., 255., 255., 252., 255., 255.],\n",
       "       [255., 255., 255., 254., 255., 253., 255., 255., 253., 255., 255.,\n",
       "        255., 251., 255., 255., 255., 255., 253., 255., 251., 255., 255.,\n",
       "        255., 255., 253., 255., 253., 255.],\n",
       "       [255., 254., 255., 255., 255., 254., 251., 255., 255., 252., 254.,\n",
       "        255., 255., 254., 255., 253., 255., 255., 255., 255., 255., 252.,\n",
       "        252., 255., 255., 255., 253., 255.],\n",
       "       [255., 254., 253., 255., 252., 255., 255., 253., 253., 255., 254.,\n",
       "        251., 255., 252., 255., 255., 254., 255., 250., 255., 255., 255.,\n",
       "        255., 254., 255., 251., 255., 253.],\n",
       "       [255., 253., 255., 255., 255., 252.,   3.,   1.,   0., 251., 255.,\n",
       "        255., 255., 255., 254., 254., 255., 253., 255., 252., 255., 255.,\n",
       "        255., 255., 255., 255., 254., 255.],\n",
       "       [254., 255., 255., 252., 219.,   3.,  10., 248.,  18.,   4.,  11.,\n",
       "        254., 255., 255., 252., 255., 255., 254.,  37.,   3.,   1.,   0.,\n",
       "         20., 174., 255., 251., 255., 255.],\n",
       "       [255., 254., 255., 255.,   2., 111., 253., 255., 255., 105.,   1.,\n",
       "        255., 255., 253., 255., 253., 254., 171.,   0., 253., 254., 255.,\n",
       "         10.,   2.,   4.,  98., 255., 254.],\n",
       "       [255., 254., 254., 255.,   1., 247., 255., 255., 253.,   2.,   0.,\n",
       "        251., 255., 254., 255., 255., 253.,  34.,   0., 253., 255., 255.,\n",
       "        252., 255., 240.,   1., 113., 252.],\n",
       "       [253., 253., 255., 255.,   0., 255., 255., 251., 249.,   1., 106.,\n",
       "        252., 255., 254., 255., 255., 255.,  28.,   1., 255., 255., 254.,\n",
       "        255., 254., 255.,  87.,   0., 254.],\n",
       "       [255., 255., 255., 132.,   2., 250., 186.,   5.,   0., 103., 255.,\n",
       "        255., 253., 255., 253., 252., 253.,  69.,   1., 253., 253., 252.,\n",
       "        255., 255., 255.,   0.,  51., 253.],\n",
       "       [255., 255., 252.,  22.,   0.,   3.,   4., 138., 254., 255., 254.,\n",
       "        255., 255., 250., 253., 255., 252., 255.,   0.,   0., 229., 255.,\n",
       "        255., 252., 253.,   3., 168., 255.],\n",
       "       [253., 255., 255.,   0., 102., 255., 255., 254., 255., 254., 255.,\n",
       "        241.,  33.,   5.,   5.,   0.,   4.,   0.,   0.,   0.,   2., 255.,\n",
       "        253., 255., 246.,   3., 254., 253.],\n",
       "       [255., 255., 255.,   1., 103., 254., 255., 255., 255., 255.,   0.,\n",
       "          0.,   1., 121., 248., 255., 253., 253., 255., 254., 255., 252.,\n",
       "        255., 255.,   3.,   0., 254., 255.],\n",
       "       [255., 252., 255.,   0.,  15., 255., 250., 255., 255., 253., 255.,\n",
       "        255., 254., 255., 253., 255., 255., 254., 255., 255., 254., 255.,\n",
       "        251., 255.,   4.,  76., 252., 255.],\n",
       "       [254., 255., 254., 254.,   2., 227., 255., 254., 255., 255., 255.,\n",
       "        255., 253., 255., 255., 254., 255., 255., 253., 255., 254., 255.,\n",
       "        254., 202.,   0., 252., 255., 254.],\n",
       "       [254., 255., 254., 255., 214.,   3., 254., 255., 255., 253., 255.,\n",
       "        254., 255., 255., 253., 255., 255., 255., 254., 255., 255., 252.,\n",
       "        255.,   0., 112., 254., 255., 255.],\n",
       "       [255., 254., 255., 255., 255.,   0.,   5., 255., 253., 255., 254.,\n",
       "        255., 255., 255., 255., 254., 253., 254., 255., 252., 255., 255.,\n",
       "         45.,   0., 255., 255., 253., 255.],\n",
       "       [255., 255., 253., 249., 255., 255.,   0.,   1., 251., 255., 255.,\n",
       "        253., 255., 254., 253., 255., 255., 254., 255., 255., 251.,   3.,\n",
       "          0., 255., 253., 252., 255., 255.],\n",
       "       [254., 254., 255., 255., 255., 255., 255.,   0.,   5., 253., 254.,\n",
       "        255., 255., 255., 255., 254., 255., 250., 255.,  43.,   2.,   3.,\n",
       "        248., 255., 255., 255., 253., 254.],\n",
       "       [255., 253., 255., 253., 253., 253., 255., 255.,  26.,   0.,   5.,\n",
       "          0.,  12.,   9.,   7.,   7.,   3.,   5.,   0.,   0., 254., 254.,\n",
       "        255., 254., 255., 252., 254., 255.],\n",
       "       [255., 253., 255., 255., 255., 255., 251., 254., 255., 255., 249.,\n",
       "        254., 138., 135., 133., 141., 137., 249., 255., 255., 253., 254.,\n",
       "        255., 254., 255., 255., 255., 251.],\n",
       "       [254., 255., 254., 253., 255., 255., 255., 255., 254., 255., 255.,\n",
       "        255., 255., 255., 255., 250., 254., 251., 255., 255., 255., 254.,\n",
       "        255., 253., 253., 255., 255., 255.],\n",
       "       [255., 254., 255., 255., 252., 255., 253., 255., 255., 254., 255.,\n",
       "        254., 253., 255., 254., 255., 255., 255., 253., 254., 255., 254.,\n",
       "        254., 255., 254., 255., 254., 255.],\n",
       "       [255., 255., 255., 255., 255., 255., 255., 255., 255., 255., 255.,\n",
       "        255., 255., 255., 255., 255., 255., 255., 255., 255., 255., 255.,\n",
       "        255., 255., 255., 255., 255., 255.],\n",
       "       [255., 255., 255., 255., 255., 255., 255., 255., 255., 255., 255.,\n",
       "        255., 255., 255., 255., 255., 255., 255., 255., 255., 255., 255.,\n",
       "        255., 255., 255., 255., 255., 255.],\n",
       "       [255., 255., 255., 255., 255., 255., 255., 255., 255., 255., 255.,\n",
       "        255., 255., 255., 255., 255., 255., 255., 255., 255., 255., 255.,\n",
       "        255., 255., 255., 255., 255., 255.],\n",
       "       [255., 255., 255., 255., 255., 255., 255., 255., 255., 255., 255.,\n",
       "        255., 255., 255., 255., 255., 255., 255., 255., 255., 255., 255.,\n",
       "        255., 255., 255., 255., 255., 255.]])"
      ]
     },
     "execution_count": 4,
     "metadata": {},
     "output_type": "execute_result"
    }
   ],
   "source": [
    "imarray"
   ]
  },
  {
   "cell_type": "markdown",
   "metadata": {},
   "source": [
    "### Plotting the reconstructed image"
   ]
  },
  {
   "cell_type": "code",
   "execution_count": 5,
   "metadata": {},
   "outputs": [],
   "source": [
    "import matplotlib.pyplot as plt\n",
    "\n",
    "plt.imshow(imarray);"
   ]
  },
  {
   "cell_type": "code",
   "execution_count": 6,
   "metadata": {},
   "outputs": [
    {
     "name": "stdout",
     "output_type": "stream",
     "text": [
      "After Converting values ie.., [0-255] in between [0-1] : \n"
     ]
    },
    {
     "data": {
      "image/png": "[encoded data removed]",
      "text/plain": [
       "<Figure size 432x288 with 1 Axes>"
      ]
     },
     "metadata": {
      "needs_background": "light"
     },
     "output_type": "display_data"
    }
   ],
   "source": [
    "print('After Converting values ie.., [0-255] in between [0-1] : ')\n",
    "imarray=255-imarray\n",
    "plt.imshow(imarray,cmap=plt.cm.binary);\n"
   ]
  },
  {
   "cell_type": "code",
   "execution_count": 7,
   "metadata": {},
   "outputs": [
    {
     "name": "stdout",
     "output_type": "stream",
     "text": [
      "After Converting values ie.., [0-255] in between [0-1] : \n"
     ]
    },
    {
     "data": {
      "image/png": "[encoded data removed]",
      "text/plain": [
       "<Figure size 432x288 with 1 Axes>"
      ]
     },
     "metadata": {
      "needs_background": "light"
     },
     "output_type": "display_data"
    }
   ],
   "source": [
    "import tensorflow as tf\n",
    "# nimg = tf.keras.utils.normalize(imarray,axis=0)\n",
    "nimg=imarray/255.0\n",
    "print('After Converting values ie.., [0-255] in between [0-1] : ')\n",
    "plt.imshow(nimg,cmap=plt.cm.binary);"
   ]
  },
  {
   "cell_type": "code",
   "execution_count": null,
   "metadata": {},
   "outputs": [],
   "source": []
  },
  {
   "cell_type": "code",
   "execution_count": null,
   "metadata": {},
   "outputs": [],
   "source": []
  }
 ],
 "metadata": {
  "kernelspec": {
   "display_name": "Python 3",
   "language": "python",
   "name": "python3"
  },
  "language_info": {
   "codemirror_mode": {
    "name": "ipython",
    "version": 3
   },
   "file_extension": ".py",
   "mimetype": "text/x-python",
   "name": "python",
   "nbconvert_exporter": "python",
   "pygments_lexer": "ipython3",
   "version": "3.6.7"
  }
 },
 "nbformat": 4,
 "nbformat_minor": 2
}

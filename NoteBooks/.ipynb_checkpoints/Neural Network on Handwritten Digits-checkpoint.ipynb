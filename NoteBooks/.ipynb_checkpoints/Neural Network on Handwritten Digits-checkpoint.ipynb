{
 "cells": [
  {
   "cell_type": "markdown",
   "metadata": {},
   "source": [
    "#  Approach: <font color='tomato'>Neural Network</font>"
   ]
  },
  {
   "cell_type": "markdown",
   "metadata": {},
   "source": [
    "## Importing Libraries"
   ]
  },
  {
   "cell_type": "code",
   "execution_count": 1,
   "metadata": {},
   "outputs": [],
   "source": [
    "import tensorflow as tf\n",
    "import matplotlib.pyplot as plt\n",
    "import pandas as pd\n",
    "import numpy as np\n",
    "from sklearn.model_selection import train_test_split\n",
    "%matplotlib inline"
   ]
  },
  {
   "cell_type": "markdown",
   "metadata": {},
   "source": [
    "## Loading Data"
   ]
  },
  {
   "cell_type": "code",
   "execution_count": 2,
   "metadata": {},
   "outputs": [
    {
     "data": {
      "text/html": [
       "<div>\n",
       "<style scoped>\n",
       "    .dataframe tbody tr th:only-of-type {\n",
       "        vertical-align: middle;\n",
       "    }\n",
       "\n",
       "    .dataframe tbody tr th {\n",
       "        vertical-align: top;\n",
       "    }\n",
       "\n",
       "    .dataframe thead th {\n",
       "        text-align: right;\n",
       "    }\n",
       "</style>\n",
       "<table border=\"1\" class=\"dataframe\">\n",
       "  <thead>\n",
       "    <tr style=\"text-align: right;\">\n",
       "      <th></th>\n",
       "      <th>pixel0</th>\n",
       "      <th>pixel1</th>\n",
       "      <th>pixel2</th>\n",
       "      <th>pixel3</th>\n",
       "      <th>pixel4</th>\n",
       "      <th>pixel5</th>\n",
       "      <th>pixel6</th>\n",
       "      <th>pixel7</th>\n",
       "      <th>pixel8</th>\n",
       "      <th>pixel9</th>\n",
       "      <th>...</th>\n",
       "      <th>pixel775</th>\n",
       "      <th>pixel776</th>\n",
       "      <th>pixel777</th>\n",
       "      <th>pixel778</th>\n",
       "      <th>pixel779</th>\n",
       "      <th>pixel780</th>\n",
       "      <th>pixel781</th>\n",
       "      <th>pixel782</th>\n",
       "      <th>pixel783</th>\n",
       "      <th>class</th>\n",
       "    </tr>\n",
       "  </thead>\n",
       "  <tbody>\n",
       "    <tr>\n",
       "      <th>0</th>\n",
       "      <td>255</td>\n",
       "      <td>255</td>\n",
       "      <td>254</td>\n",
       "      <td>255</td>\n",
       "      <td>255</td>\n",
       "      <td>255</td>\n",
       "      <td>252</td>\n",
       "      <td>255</td>\n",
       "      <td>255</td>\n",
       "      <td>255</td>\n",
       "      <td>...</td>\n",
       "      <td>255</td>\n",
       "      <td>255</td>\n",
       "      <td>255</td>\n",
       "      <td>255</td>\n",
       "      <td>255</td>\n",
       "      <td>255</td>\n",
       "      <td>255</td>\n",
       "      <td>255</td>\n",
       "      <td>255</td>\n",
       "      <td>1</td>\n",
       "    </tr>\n",
       "    <tr>\n",
       "      <th>1</th>\n",
       "      <td>255</td>\n",
       "      <td>255</td>\n",
       "      <td>254</td>\n",
       "      <td>255</td>\n",
       "      <td>255</td>\n",
       "      <td>254</td>\n",
       "      <td>255</td>\n",
       "      <td>255</td>\n",
       "      <td>255</td>\n",
       "      <td>255</td>\n",
       "      <td>...</td>\n",
       "      <td>255</td>\n",
       "      <td>255</td>\n",
       "      <td>255</td>\n",
       "      <td>255</td>\n",
       "      <td>255</td>\n",
       "      <td>255</td>\n",
       "      <td>255</td>\n",
       "      <td>255</td>\n",
       "      <td>255</td>\n",
       "      <td>1</td>\n",
       "    </tr>\n",
       "    <tr>\n",
       "      <th>2</th>\n",
       "      <td>255</td>\n",
       "      <td>254</td>\n",
       "      <td>255</td>\n",
       "      <td>255</td>\n",
       "      <td>255</td>\n",
       "      <td>255</td>\n",
       "      <td>254</td>\n",
       "      <td>255</td>\n",
       "      <td>254</td>\n",
       "      <td>255</td>\n",
       "      <td>...</td>\n",
       "      <td>255</td>\n",
       "      <td>255</td>\n",
       "      <td>255</td>\n",
       "      <td>255</td>\n",
       "      <td>255</td>\n",
       "      <td>255</td>\n",
       "      <td>255</td>\n",
       "      <td>255</td>\n",
       "      <td>255</td>\n",
       "      <td>1</td>\n",
       "    </tr>\n",
       "    <tr>\n",
       "      <th>3</th>\n",
       "      <td>254</td>\n",
       "      <td>255</td>\n",
       "      <td>255</td>\n",
       "      <td>255</td>\n",
       "      <td>254</td>\n",
       "      <td>255</td>\n",
       "      <td>255</td>\n",
       "      <td>255</td>\n",
       "      <td>254</td>\n",
       "      <td>255</td>\n",
       "      <td>...</td>\n",
       "      <td>255</td>\n",
       "      <td>255</td>\n",
       "      <td>255</td>\n",
       "      <td>255</td>\n",
       "      <td>255</td>\n",
       "      <td>255</td>\n",
       "      <td>255</td>\n",
       "      <td>255</td>\n",
       "      <td>255</td>\n",
       "      <td>1</td>\n",
       "    </tr>\n",
       "    <tr>\n",
       "      <th>4</th>\n",
       "      <td>254</td>\n",
       "      <td>255</td>\n",
       "      <td>255</td>\n",
       "      <td>253</td>\n",
       "      <td>255</td>\n",
       "      <td>255</td>\n",
       "      <td>255</td>\n",
       "      <td>254</td>\n",
       "      <td>255</td>\n",
       "      <td>255</td>\n",
       "      <td>...</td>\n",
       "      <td>255</td>\n",
       "      <td>255</td>\n",
       "      <td>255</td>\n",
       "      <td>255</td>\n",
       "      <td>255</td>\n",
       "      <td>255</td>\n",
       "      <td>255</td>\n",
       "      <td>255</td>\n",
       "      <td>255</td>\n",
       "      <td>1</td>\n",
       "    </tr>\n",
       "  </tbody>\n",
       "</table>\n",
       "<p>5 rows × 785 columns</p>\n",
       "</div>"
      ],
      "text/plain": [
       "   pixel0  pixel1  pixel2  pixel3  pixel4  pixel5  pixel6  pixel7  pixel8  \\\n",
       "0     255     255     254     255     255     255     252     255     255   \n",
       "1     255     255     254     255     255     254     255     255     255   \n",
       "2     255     254     255     255     255     255     254     255     254   \n",
       "3     254     255     255     255     254     255     255     255     254   \n",
       "4     254     255     255     253     255     255     255     254     255   \n",
       "\n",
       "   pixel9  ...    pixel775  pixel776  pixel777  pixel778  pixel779  pixel780  \\\n",
       "0     255  ...         255       255       255       255       255       255   \n",
       "1     255  ...         255       255       255       255       255       255   \n",
       "2     255  ...         255       255       255       255       255       255   \n",
       "3     255  ...         255       255       255       255       255       255   \n",
       "4     255  ...         255       255       255       255       255       255   \n",
       "\n",
       "   pixel781  pixel782  pixel783  class  \n",
       "0       255       255       255      1  \n",
       "1       255       255       255      1  \n",
       "2       255       255       255      1  \n",
       "3       255       255       255      1  \n",
       "4       255       255       255      1  \n",
       "\n",
       "[5 rows x 785 columns]"
      ]
     },
     "execution_count": 2,
     "metadata": {},
     "output_type": "execute_result"
    }
   ],
   "source": [
    "df = pd.read_csv(\"E://Telugu Character Recogniton//CSV_dataset//CSV_datasetsix_vowel_dataset_with_class.csv\")\n",
    "df.head()"
   ]
  },
  {
   "cell_type": "markdown",
   "metadata": {},
   "source": [
    "## Splitting data into 'train' and 'test'"
   ]
  },
  {
   "cell_type": "code",
   "execution_count": 3,
   "metadata": {},
   "outputs": [],
   "source": [
    "pix=[]\n",
    "for i in range(784):\n",
    "    pix.append('pixel'+str(i))\n",
    "features=pix\n",
    "X = df.loc[:, features].values\n",
    "y = df.loc[:,'class'].values\n",
    "\n",
    "X_train, X_test, y_train, y_test = train_test_split(\n",
    " X, y, test_size = 0.30, random_state = 100)\n",
    "y_train=y_train.ravel()\n",
    "y_test=y_test.ravel()"
   ]
  },
  {
   "cell_type": "markdown",
   "metadata": {},
   "source": [
    "## Seeing the Images in the dataset"
   ]
  },
  {
   "cell_type": "code",
   "execution_count": 4,
   "metadata": {},
   "outputs": [],
   "source": [
    "def row2img(data):\n",
    "    return np.asfarray(data).reshape((28,28))"
   ]
  },
  {
   "cell_type": "code",
   "execution_count": 5,
   "metadata": {},
   "outputs": [
    {
     "data": {
      "image/png": "[encoded data removed]",
      "text/plain": [
       "<Figure size 432x288 with 1 Axes>"
      ]
     },
     "metadata": {
      "needs_background": "light"
     },
     "output_type": "display_data"
    }
   ],
   "source": [
    "data=X_train[11]\n",
    "f, ax1 = plt.subplots(1, 1, sharey=True)\n",
    "f.suptitle('Respective image of X_train[11]', size='20')\n",
    "ax1.imshow(255-row2img(data), cmap=plt.cm.binary);"
   ]
  },
  {
   "cell_type": "markdown",
   "metadata": {},
   "source": [
    "## Normalize the dataset"
   ]
  },
  {
   "cell_type": "code",
   "execution_count": 6,
   "metadata": {},
   "outputs": [],
   "source": [
    "X_train = tf.keras.utils.normalize(X_train,axis=1)\n",
    "X_test = tf.keras.utils.normalize(X_test,axis=1)"
   ]
  },
  {
   "cell_type": "markdown",
   "metadata": {},
   "source": [
    "## Building Neural Network"
   ]
  },
  {
   "cell_type": "code",
   "execution_count": 7,
   "metadata": {},
   "outputs": [],
   "source": [
    "model=tf.keras.models.Sequential()\n",
    "model.add(tf.keras.layers.Flatten())\n",
    "model.add(tf.keras.layers.Dense(128,activation=tf.nn.relu))\n",
    "model.add(tf.keras.layers.Dense(128,activation=tf.nn.relu))\n",
    "model.add(tf.keras.layers.Dense(128,activation=tf.nn.relu))\n",
    "model.add(tf.keras.layers.Dense(128,activation=tf.nn.relu))\n",
    "model.add(tf.keras.layers.Dense(7,activation=tf.nn.softmax))"
   ]
  },
  {
   "cell_type": "markdown",
   "metadata": {},
   "source": [
    "## Compiling Model"
   ]
  },
  {
   "cell_type": "code",
   "execution_count": 8,
   "metadata": {},
   "outputs": [],
   "source": [
    "model.compile(optimizer='adam',\n",
    "                loss='sparse_categorical_crossentropy', metrics=['accuracy'])"
   ]
  },
  {
   "cell_type": "code",
   "execution_count": 9,
   "metadata": {},
   "outputs": [
    {
     "name": "stdout",
     "output_type": "stream",
     "text": [
      "Epoch 1/50\n",
      "840/840 [==============================] - 0s 433us/step - loss: 1.8915 - acc: 0.1429\n",
      "Epoch 2/50\n",
      "840/840 [==============================] - 0s 83us/step - loss: 1.8065 - acc: 0.1536\n",
      "Epoch 3/50\n",
      "840/840 [==============================] - 0s 70us/step - loss: 1.8072 - acc: 0.1667\n",
      "Epoch 4/50\n",
      "840/840 [==============================] - 0s 98us/step - loss: 1.8044 - acc: 0.1810\n",
      "Epoch 5/50\n",
      "840/840 [==============================] - 0s 85us/step - loss: 1.7917 - acc: 0.1702\n",
      "Epoch 6/50\n",
      "840/840 [==============================] - 0s 81us/step - loss: 1.7776 - acc: 0.2000\n",
      "Epoch 7/50\n",
      "840/840 [==============================] - 0s 82us/step - loss: 1.7474 - acc: 0.2250\n",
      "Epoch 8/50\n",
      "840/840 [==============================] - 0s 82us/step - loss: 1.6130 - acc: 0.3440\n",
      "Epoch 9/50\n",
      "840/840 [==============================] - 0s 81us/step - loss: 1.3807 - acc: 0.4595\n",
      "Epoch 10/50\n",
      "840/840 [==============================] - 0s 81us/step - loss: 1.2045 - acc: 0.5012\n",
      "Epoch 11/50\n",
      "840/840 [==============================] - 0s 76us/step - loss: 1.1545 - acc: 0.4881\n",
      "Epoch 12/50\n",
      "840/840 [==============================] - 0s 74us/step - loss: 1.3053 - acc: 0.4238\n",
      "Epoch 13/50\n",
      "840/840 [==============================] - 0s 93us/step - loss: 1.1000 - acc: 0.5595\n",
      "Epoch 14/50\n",
      "840/840 [==============================] - 0s 74us/step - loss: 1.0524 - acc: 0.5821\n",
      "Epoch 15/50\n",
      "840/840 [==============================] - 0s 74us/step - loss: 1.0295 - acc: 0.5988\n",
      "Epoch 16/50\n",
      "840/840 [==============================] - 0s 74us/step - loss: 0.9303 - acc: 0.6405\n",
      "Epoch 17/50\n",
      "840/840 [==============================] - 0s 67us/step - loss: 0.9288 - acc: 0.6464\n",
      "Epoch 18/50\n",
      "840/840 [==============================] - 0s 106us/step - loss: 0.8580 - acc: 0.6548\n",
      "Epoch 19/50\n",
      "840/840 [==============================] - 0s 87us/step - loss: 0.8159 - acc: 0.6738\n",
      "Epoch 20/50\n",
      "840/840 [==============================] - 0s 90us/step - loss: 0.7140 - acc: 0.7417\n",
      "Epoch 21/50\n",
      "840/840 [==============================] - 0s 97us/step - loss: 0.6539 - acc: 0.7560\n",
      "Epoch 22/50\n",
      "840/840 [==============================] - 0s 98us/step - loss: 0.6511 - acc: 0.7560\n",
      "Epoch 23/50\n",
      "840/840 [==============================] - 0s 88us/step - loss: 0.6018 - acc: 0.7905\n",
      "Epoch 24/50\n",
      "840/840 [==============================] - 0s 92us/step - loss: 0.5687 - acc: 0.7857\n",
      "Epoch 25/50\n",
      "840/840 [==============================] - 0s 91us/step - loss: 0.5777 - acc: 0.7940\n",
      "Epoch 26/50\n",
      "840/840 [==============================] - 0s 95us/step - loss: 0.6217 - acc: 0.7655\n",
      "Epoch 27/50\n",
      "840/840 [==============================] - 0s 90us/step - loss: 0.6337 - acc: 0.7619\n",
      "Epoch 28/50\n",
      "840/840 [==============================] - 0s 82us/step - loss: 0.4875 - acc: 0.8381\n",
      "Epoch 29/50\n",
      "840/840 [==============================] - 0s 76us/step - loss: 0.4732 - acc: 0.8345\n",
      "Epoch 30/50\n",
      "840/840 [==============================] - 0s 84us/step - loss: 0.4709 - acc: 0.8345\n",
      "Epoch 31/50\n",
      "840/840 [==============================] - 0s 85us/step - loss: 0.4215 - acc: 0.8595\n",
      "Epoch 32/50\n",
      "840/840 [==============================] - 0s 68us/step - loss: 0.4435 - acc: 0.8393\n",
      "Epoch 33/50\n",
      "840/840 [==============================] - 0s 86us/step - loss: 0.4007 - acc: 0.8631\n",
      "Epoch 34/50\n",
      "840/840 [==============================] - 0s 98us/step - loss: 0.3331 - acc: 0.8929\n",
      "Epoch 35/50\n",
      "840/840 [==============================] - 0s 60us/step - loss: 0.3578 - acc: 0.8726\n",
      "Epoch 36/50\n",
      "840/840 [==============================] - 0s 75us/step - loss: 0.4711 - acc: 0.8333\n",
      "Epoch 37/50\n",
      "840/840 [==============================] - 0s 74us/step - loss: 0.3707 - acc: 0.8560\n",
      "Epoch 38/50\n",
      "840/840 [==============================] - 0s 94us/step - loss: 0.3258 - acc: 0.8810\n",
      "Epoch 39/50\n",
      "840/840 [==============================] - 0s 81us/step - loss: 0.2851 - acc: 0.9048\n",
      "Epoch 40/50\n",
      "840/840 [==============================] - 0s 60us/step - loss: 0.2980 - acc: 0.8988\n",
      "Epoch 41/50\n",
      "840/840 [==============================] - 0s 83us/step - loss: 0.2935 - acc: 0.8988\n",
      "Epoch 42/50\n",
      "840/840 [==============================] - 0s 77us/step - loss: 0.2758 - acc: 0.9119\n",
      "Epoch 43/50\n",
      "840/840 [==============================] - 0s 74us/step - loss: 0.2595 - acc: 0.9131\n",
      "Epoch 44/50\n",
      "840/840 [==============================] - 0s 98us/step - loss: 0.2868 - acc: 0.9012\n",
      "Epoch 45/50\n",
      "840/840 [==============================] - 0s 81us/step - loss: 0.2999 - acc: 0.9036\n",
      "Epoch 46/50\n",
      "840/840 [==============================] - 0s 74us/step - loss: 0.2457 - acc: 0.9107\n",
      "Epoch 47/50\n",
      "840/840 [==============================] - 0s 85us/step - loss: 0.2086 - acc: 0.9357\n",
      "Epoch 48/50\n",
      "840/840 [==============================] - 0s 74us/step - loss: 0.2614 - acc: 0.9036\n",
      "Epoch 49/50\n",
      "840/840 [==============================] - 0s 85us/step - loss: 0.2742 - acc: 0.8940\n",
      "Epoch 50/50\n",
      "840/840 [==============================] - 0s 74us/step - loss: 0.2241 - acc: 0.9286\n"
     ]
    },
    {
     "data": {
      "text/plain": [
       "<tensorflow.python.keras.callbacks.History at 0xca01538c50>"
      ]
     },
     "execution_count": 9,
     "metadata": {},
     "output_type": "execute_result"
    }
   ],
   "source": [
    "model.fit(X_train,y_train,epochs=50)"
   ]
  },
  {
   "cell_type": "markdown",
   "metadata": {},
   "source": [
    "## Accuracy and Loss"
   ]
  },
  {
   "cell_type": "code",
   "execution_count": 10,
   "metadata": {},
   "outputs": [
    {
     "name": "stdout",
     "output_type": "stream",
     "text": [
      "360/360 [==============================] - 0s 194us/step\n",
      "Accuracy: 0.8277777777777777\n"
     ]
    }
   ],
   "source": [
    "_,acc=model.evaluate(X_test,y_test)\n",
    "print('Accuracy: {}'.format(acc))"
   ]
  },
  {
   "cell_type": "markdown",
   "metadata": {},
   "source": [
    "## <font color='tomato'>Accuracy of the model is: </font><font color='MediumSpringGreen'>0.8472222222222222</font>"
   ]
  },
  {
   "cell_type": "markdown",
   "metadata": {},
   "source": [
    "## Predict"
   ]
  },
  {
   "cell_type": "code",
   "execution_count": 11,
   "metadata": {},
   "outputs": [
    {
     "name": "stdout",
     "output_type": "stream",
     "text": [
      "Predicted Label:  3\n"
     ]
    }
   ],
   "source": [
    "pred=model.predict([X_test])\n",
    "print('Predicted Label: ',np.argmax(pred[11]))"
   ]
  },
  {
   "cell_type": "code",
   "execution_count": 12,
   "metadata": {},
   "outputs": [
    {
     "data": {
      "image/png": "[encoded data removed]",
      "text/plain": [
       "<Figure size 432x288 with 1 Axes>"
      ]
     },
     "metadata": {
      "needs_background": "light"
     },
     "output_type": "display_data"
    }
   ],
   "source": [
    "f, (ax1) = plt.subplots(1, 1, sharey=True)\n",
    "ax1.set_title('Actual Label: '+str(y_test[11]))\n",
    "ax1.imshow(255-row2img(X_test[11]),cmap=plt.cm.binary);\n"
   ]
  },
  {
   "cell_type": "markdown",
   "metadata": {},
   "source": [
    "## Conclusion:\n",
    "* <pre><font color='navy' face='lucida console'><strong>Since the Neural Networks needs lots of data for the training purpose.\n",
    "  So the data that we have is not sufficient to train the model to get better reults when compared to the models like SVM and K-NNC.</strong></font></pre>"
   ]
  },
  {
   "cell_type": "code",
   "execution_count": null,
   "metadata": {},
   "outputs": [],
   "source": []
  }
 ],
 "metadata": {
  "kernelspec": {
   "display_name": "Python 3",
   "language": "python",
   "name": "python3"
  },
  "language_info": {
   "codemirror_mode": {
    "name": "ipython",
    "version": 3
   },
   "file_extension": ".py",
   "mimetype": "text/x-python",
   "name": "python",
   "nbconvert_exporter": "python",
   "pygments_lexer": "ipython3",
   "version": "3.6.7"
  }
 },
 "nbformat": 4,
 "nbformat_minor": 2
}
